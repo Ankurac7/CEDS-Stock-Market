{
 "cells": [
  {
   "cell_type": "code",
   "execution_count": 3,
   "metadata": {},
   "outputs": [],
   "source": [
    "url1 = \"https://www.google.com/finance/quote/INFY:NSE?hl=en\"\n",
    "url2 = \"https://www.google.com/finance/quote/500209:BOM?hl=en\""
   ]
  },
  {
   "cell_type": "code",
   "execution_count": 4,
   "metadata": {},
   "outputs": [
    {
     "name": "stdout",
     "output_type": "stream",
     "text": [
      "1698.65\n",
      "1698.65\n",
      "1698.65\n",
      "1698.65\n"
     ]
    }
   ],
   "source": [
    "import requests\n",
    "import time\n",
    "from bs4 import BeautifulSoup as Soup\n",
    "\n",
    "ticker = 'INFY'\n",
    "exchange = 'NSE' #NSE, BOM\n",
    "url = f\"https://www.google.com/finance/quote/{ticker}:{exchange}?hl=en\"\n",
    "\n",
    "for i in range(4):\n",
    "  response = requests.get(url)\n",
    "  soup = Soup(response.text,'html.parser')\n",
    "  class1 = \"YMlKec fxKbKc\"\n",
    "  price = float(soup.find(class_=class1).text.strip()[1:].replace(\",\",\"\"))\n",
    "  print(price)\n",
    "  time.sleep(1)"
   ]
  }
 ],
 "metadata": {
  "kernelspec": {
   "display_name": "Python 3",
   "language": "python",
   "name": "python3"
  },
  "language_info": {
   "codemirror_mode": {
    "name": "ipython",
    "version": 3
   },
   "file_extension": ".py",
   "mimetype": "text/x-python",
   "name": "python",
   "nbconvert_exporter": "python",
   "pygments_lexer": "ipython3",
   "version": "3.11.5"
  }
 },
 "nbformat": 4,
 "nbformat_minor": 2
}
